{
 "cells": [
  {
   "cell_type": "code",
   "execution_count": 1,
   "metadata": {},
   "outputs": [],
   "source": [
    "import os\n",
    "import time\n",
    "import torch\n",
    "import sys\n",
    "import torch.optim as optim\n",
    "import itertools\n",
    "from torchvision import transforms as T\n",
    "%matplotlib notebook"
   ]
  },
  {
   "cell_type": "code",
   "execution_count": 2,
   "metadata": {},
   "outputs": [
    {
     "name": "stdout",
     "output_type": "stream",
     "text": [
      "C:\\Users\\tomav\\Documents\\GitHub\\cs236781-project\\data/nyuv2\n"
     ]
    }
   ],
   "source": [
    "CWD             = os.getcwd()\n",
    "DATASET_DIR     = os.path.join(CWD,'data/nyuv2')\n",
    "print(DATASET_DIR)"
   ]
  },
  {
   "cell_type": "code",
   "execution_count": 3,
   "metadata": {},
   "outputs": [
    {
     "name": "stdout",
     "output_type": "stream",
     "text": [
      "Using device: cuda\n"
     ]
    }
   ],
   "source": [
    "device = torch.device('cuda' if torch.cuda.is_available() else 'cpu')\n",
    "print('Using device:', device)"
   ]
  },
  {
   "cell_type": "code",
   "execution_count": null,
   "metadata": {},
   "outputs": [
    {
     "name": "stdout",
     "output_type": "stream",
     "text": [
      "Current Hyper-Parameters:\n",
      "IMAGE_SIZE=(224, 224)\n",
      "TRAIN_TEST_RATIO=0.5\n",
      "BATCH_SIZE=4\n",
      "NUM_WORKERS=4\n",
      "\n",
      "BETAS=(0.9, 0.99)\n",
      "LR=0.001\n",
      "MOMENTUM=0.9\n",
      "WEIGHT_DECAY=0.0005\n",
      "\n",
      "STEP_SIZE=1000\n",
      "GAMMA=0.1\n",
      "\n",
      "NUM_EPOCHS=1000\n",
      "\n",
      "Found 6 images in dataset folder.\n",
      "[I] - default optimizer set: SGD(lr=0.001,momentum=0.9,weight_decay=0.0005)\n",
      "[I] - default scheduler set: StepSR(step_size=1000,gamma=0.1)\n",
      "--- EPOCH 1/1000 ---\n",
      "train_batch (Avg. Loss 0.014: 100%|██████████████████████████████████████████████████████| 1/1 [00:01<00:00,  1.34s/it]\n",
      "test_batch (Avg. Loss 0.014: 100%|███████████████████████████████████████████████████████| 1/1 [00:01<00:00,  1.15s/it]\n",
      "train_batch (Avg. Loss 0.014: 100%|██████████████████████████████████████████████████████| 1/1 [00:01<00:00,  1.33s/it]\n",
      "test_batch (Avg. Loss 0.014: 100%|███████████████████████████████████████████████████████| 1/1 [00:01<00:00,  1.14s/it]\n",
      "[info] - Saved checkpoint checkpoints/special_fusenet.pt at epoch 2\n",
      "train_batch (Avg. Loss 0.014: 100%|██████████████████████████████████████████████████████| 1/1 [00:01<00:00,  1.33s/it]\n",
      "test_batch (Avg. Loss 0.014: 100%|███████████████████████████████████████████████████████| 1/1 [00:01<00:00,  1.09s/it]\n",
      "[info] - Saved checkpoint checkpoints/special_fusenet.pt at epoch 3\n",
      "train_batch (Avg. Loss 0.014: 100%|██████████████████████████████████████████████████████| 1/1 [00:01<00:00,  1.36s/it]\n",
      "test_batch:   0%|                                                                                | 0/1 [00:00<?, ?it/s]"
     ]
    },
    {
     "name": "stderr",
     "output_type": "stream",
     "text": [
      "Exception ignored in: <function _MultiProcessingDataLoaderIter.__del__ at 0x0000014F7B549C18>\n",
      "Traceback (most recent call last):\n",
      "  File \"C:\\ProgramData\\Anaconda3\\lib\\site-packages\\torch\\utils\\data\\dataloader.py\", line 961, in __del__\n",
      "    self._shutdown_workers()\n",
      "  File \"C:\\ProgramData\\Anaconda3\\lib\\site-packages\\torch\\utils\\data\\dataloader.py\", line 941, in _shutdown_workers\n",
      "    w.join()\n",
      "  File \"C:\\ProgramData\\Anaconda3\\lib\\multiprocessing\\process.py\", line 140, in join\n",
      "    res = self._popen.wait(timeout)\n",
      "  File \"C:\\ProgramData\\Anaconda3\\lib\\multiprocessing\\popen_spawn_win32.py\", line 104, in wait\n",
      "    res = _winapi.WaitForSingleObject(int(self._handle), msecs)\n",
      "KeyboardInterrupt: \n"
     ]
    },
    {
     "name": "stdout",
     "output_type": "stream",
     "text": [
      "test_batch (Avg. Loss 0.014: 100%|███████████████████████████████████████████████████████| 1/1 [00:01<00:00,  1.14s/it]\n",
      "[info] - Saved checkpoint checkpoints/special_fusenet.pt at epoch 4\n",
      "train_batch (Avg. Loss 0.014: 100%|██████████████████████████████████████████████████████| 1/1 [00:01<00:00,  1.33s/it]\n",
      "test_batch (Avg. Loss 0.014: 100%|███████████████████████████████████████████████████████| 1/1 [00:01<00:00,  1.10s/it]\n",
      "[info] - Saved checkpoint checkpoints/special_fusenet.pt at epoch 5\n",
      "train_batch (Avg. Loss 0.014: 100%|██████████████████████████████████████████████████████| 1/1 [00:01<00:00,  1.33s/it]\n",
      "test_batch (Avg. Loss 0.014: 100%|███████████████████████████████████████████████████████| 1/1 [00:01<00:00,  1.13s/it]\n",
      "[info] - Saved checkpoint checkpoints/special_fusenet.pt at epoch 6\n",
      "train_batch (Avg. Loss 0.014: 100%|██████████████████████████████████████████████████████| 1/1 [00:01<00:00,  1.34s/it]\n",
      "test_batch (Avg. Loss 0.014: 100%|███████████████████████████████████████████████████████| 1/1 [00:01<00:00,  1.13s/it]\n",
      "[info] - Saved checkpoint checkpoints/special_fusenet.pt at epoch 7\n",
      "train_batch (Avg. Loss 0.014: 100%|██████████████████████████████████████████████████████| 1/1 [00:01<00:00,  1.39s/it]\n",
      "test_batch (Avg. Loss 0.014: 100%|███████████████████████████████████████████████████████| 1/1 [00:01<00:00,  1.11s/it]\n",
      "[info] - Saved checkpoint checkpoints/special_fusenet.pt at epoch 8\n",
      "train_batch (Avg. Loss 0.014: 100%|██████████████████████████████████████████████████████| 1/1 [00:01<00:00,  1.36s/it]\n",
      "test_batch (Avg. Loss 0.014: 100%|███████████████████████████████████████████████████████| 1/1 [00:01<00:00,  1.15s/it]\n",
      "[info] - Saved checkpoint checkpoints/special_fusenet.pt at epoch 9\n",
      "train_batch (Avg. Loss 0.014: 100%|██████████████████████████████████████████████████████| 1/1 [00:01<00:00,  1.32s/it]\n",
      "test_batch (Avg. Loss 0.014: 100%|███████████████████████████████████████████████████████| 1/1 [00:01<00:00,  1.12s/it]\n",
      "[info] - Saved checkpoint checkpoints/special_fusenet.pt at epoch 10\n",
      "--- EPOCH 11/1000 ---\n",
      "train_batch (Avg. Loss 0.014: 100%|██████████████████████████████████████████████████████| 1/1 [00:01<00:00,  1.33s/it]\n",
      "test_batch (Avg. Loss 0.014: 100%|███████████████████████████████████████████████████████| 1/1 [00:01<00:00,  1.09s/it]\n",
      "[info] - Saved checkpoint checkpoints/special_fusenet.pt at epoch 11\n",
      "train_batch (Avg. Loss 0.014: 100%|██████████████████████████████████████████████████████| 1/1 [00:01<00:00,  1.33s/it]\n",
      "test_batch (Avg. Loss 0.014: 100%|███████████████████████████████████████████████████████| 1/1 [00:01<00:00,  1.11s/it]\n",
      "[info] - Saved checkpoint checkpoints/special_fusenet.pt at epoch 12\n",
      "train_batch (Avg. Loss 0.014: 100%|██████████████████████████████████████████████████████| 1/1 [00:01<00:00,  1.34s/it]\n",
      "test_batch (Avg. Loss 0.014: 100%|███████████████████████████████████████████████████████| 1/1 [00:01<00:00,  1.15s/it]\n",
      "[info] - Saved checkpoint checkpoints/special_fusenet.pt at epoch 13\n",
      "train_batch (Avg. Loss 0.014: 100%|██████████████████████████████████████████████████████| 1/1 [00:01<00:00,  1.30s/it]\n",
      "test_batch (Avg. Loss 0.014: 100%|███████████████████████████████████████████████████████| 1/1 [00:01<00:00,  1.15s/it]\n",
      "[info] - Saved checkpoint checkpoints/special_fusenet.pt at epoch 14\n",
      "train_batch (Avg. Loss 0.014: 100%|██████████████████████████████████████████████████████| 1/1 [00:01<00:00,  1.31s/it]\n",
      "test_batch (Avg. Loss 0.014: 100%|███████████████████████████████████████████████████████| 1/1 [00:01<00:00,  1.12s/it]\n",
      "[info] - Saved checkpoint checkpoints/special_fusenet.pt at epoch 15\n",
      "train_batch (Avg. Loss 0.014: 100%|██████████████████████████████████████████████████████| 1/1 [00:01<00:00,  1.38s/it]\n",
      "test_batch (Avg. Loss 0.014: 100%|███████████████████████████████████████████████████████| 1/1 [00:01<00:00,  1.14s/it]\n",
      "[info] - Saved checkpoint checkpoints/special_fusenet.pt at epoch 16\n",
      "train_batch (Avg. Loss 0.014: 100%|██████████████████████████████████████████████████████| 1/1 [00:01<00:00,  1.33s/it]\n",
      "test_batch (Avg. Loss 0.014: 100%|███████████████████████████████████████████████████████| 1/1 [00:01<00:00,  1.11s/it]\n",
      "[info] - Saved checkpoint checkpoints/special_fusenet.pt at epoch 17\n",
      "train_batch (Avg. Loss 0.014: 100%|██████████████████████████████████████████████████████| 1/1 [00:01<00:00,  1.36s/it]\n",
      "test_batch (Avg. Loss 0.014: 100%|███████████████████████████████████████████████████████| 1/1 [00:01<00:00,  1.11s/it]\n",
      "[info] - Saved checkpoint checkpoints/special_fusenet.pt at epoch 18\n",
      "train_batch (Avg. Loss 0.014: 100%|██████████████████████████████████████████████████████| 1/1 [00:01<00:00,  1.32s/it]\n",
      "test_batch (Avg. Loss 0.014: 100%|███████████████████████████████████████████████████████| 1/1 [00:01<00:00,  1.11s/it]\n",
      "[info] - Saved checkpoint checkpoints/special_fusenet.pt at epoch 19\n",
      "train_batch (Avg. Loss 0.014: 100%|██████████████████████████████████████████████████████| 1/1 [00:01<00:00,  1.33s/it]\n",
      "test_batch (Avg. Loss 0.014: 100%|███████████████████████████████████████████████████████| 1/1 [00:01<00:00,  1.11s/it]\n",
      "[info] - Saved checkpoint checkpoints/special_fusenet.pt at epoch 20\n",
      "--- EPOCH 21/1000 ---\n",
      "train_batch (Avg. Loss 0.014: 100%|██████████████████████████████████████████████████████| 1/1 [00:01<00:00,  1.33s/it]\n",
      "test_batch (Avg. Loss 0.014: 100%|███████████████████████████████████████████████████████| 1/1 [00:01<00:00,  1.12s/it]\n",
      "[info] - Saved checkpoint checkpoints/special_fusenet.pt at epoch 21\n",
      "train_batch (Avg. Loss 0.014: 100%|██████████████████████████████████████████████████████| 1/1 [00:01<00:00,  1.35s/it]\n",
      "test_batch (Avg. Loss 0.014: 100%|███████████████████████████████████████████████████████| 1/1 [00:01<00:00,  1.13s/it]\n",
      "train_batch (Avg. Loss 0.014: 100%|██████████████████████████████████████████████████████| 1/1 [00:01<00:00,  1.33s/it]\n",
      "test_batch (Avg. Loss 0.013: 100%|███████████████████████████████████████████████████████| 1/1 [00:01<00:00,  1.16s/it]\n",
      "[info] - Saved checkpoint checkpoints/special_fusenet.pt at epoch 23\n",
      "train_batch (Avg. Loss 0.013: 100%|██████████████████████████████████████████████████████| 1/1 [00:01<00:00,  1.32s/it]\n",
      "test_batch (Avg. Loss 0.014: 100%|███████████████████████████████████████████████████████| 1/1 [00:01<00:00,  1.10s/it]\n",
      "train_batch (Avg. Loss 0.013: 100%|██████████████████████████████████████████████████████| 1/1 [00:01<00:00,  1.32s/it]\n",
      "test_batch (Avg. Loss 0.013: 100%|███████████████████████████████████████████████████████| 1/1 [00:01<00:00,  1.15s/it]\n",
      "[info] - Saved checkpoint checkpoints/special_fusenet.pt at epoch 25\n",
      "train_batch (Avg. Loss 0.013: 100%|██████████████████████████████████████████████████████| 1/1 [00:01<00:00,  1.35s/it]\n",
      "test_batch (Avg. Loss 0.013: 100%|███████████████████████████████████████████████████████| 1/1 [00:01<00:00,  1.11s/it]\n",
      "[info] - Saved checkpoint checkpoints/special_fusenet.pt at epoch 26\n",
      "train_batch (Avg. Loss 0.013: 100%|██████████████████████████████████████████████████████| 1/1 [00:01<00:00,  1.35s/it]\n",
      "test_batch (Avg. Loss 0.013: 100%|███████████████████████████████████████████████████████| 1/1 [00:01<00:00,  1.11s/it]\n",
      "train_batch (Avg. Loss 0.013: 100%|██████████████████████████████████████████████████████| 1/1 [00:01<00:00,  1.35s/it]\n",
      "test_batch (Avg. Loss 0.013: 100%|███████████████████████████████████████████████████████| 1/1 [00:01<00:00,  1.10s/it]\n",
      "[info] - Saved checkpoint checkpoints/special_fusenet.pt at epoch 28\n",
      "train_batch (Avg. Loss 0.013: 100%|██████████████████████████████████████████████████████| 1/1 [00:01<00:00,  1.34s/it]\n",
      "test_batch (Avg. Loss 0.013: 100%|███████████████████████████████████████████████████████| 1/1 [00:01<00:00,  1.13s/it]\n",
      "train_batch (Avg. Loss 0.013: 100%|██████████████████████████████████████████████████████| 1/1 [00:01<00:00,  1.31s/it]\n",
      "test_batch (Avg. Loss 0.013: 100%|███████████████████████████████████████████████████████| 1/1 [00:01<00:00,  1.12s/it]\n",
      "[info] - Saved checkpoint checkpoints/special_fusenet.pt at epoch 30\n",
      "--- EPOCH 31/1000 ---\n",
      "train_batch (Avg. Loss 0.013: 100%|██████████████████████████████████████████████████████| 1/1 [00:01<00:00,  1.35s/it]\n"
     ]
    },
    {
     "name": "stdout",
     "output_type": "stream",
     "text": [
      "test_batch (Avg. Loss 0.013: 100%|███████████████████████████████████████████████████████| 1/1 [00:01<00:00,  1.13s/it]\n",
      "[info] - Saved checkpoint checkpoints/special_fusenet.pt at epoch 31\n",
      "train_batch (Avg. Loss 0.013: 100%|██████████████████████████████████████████████████████| 1/1 [00:01<00:00,  1.39s/it]\n",
      "test_batch (Avg. Loss 0.013: 100%|███████████████████████████████████████████████████████| 1/1 [00:01<00:00,  1.14s/it]\n",
      "[info] - Saved checkpoint checkpoints/special_fusenet.pt at epoch 32\n",
      "train_batch (Avg. Loss 0.013: 100%|██████████████████████████████████████████████████████| 1/1 [00:01<00:00,  1.33s/it]\n",
      "test_batch (Avg. Loss 0.013: 100%|███████████████████████████████████████████████████████| 1/1 [00:01<00:00,  1.10s/it]\n",
      "train_batch (Avg. Loss 0.013: 100%|██████████████████████████████████████████████████████| 1/1 [00:01<00:00,  1.30s/it]\n",
      "test_batch (Avg. Loss 0.013: 100%|███████████████████████████████████████████████████████| 1/1 [00:01<00:00,  1.13s/it]\n",
      "train_batch (Avg. Loss 0.013: 100%|██████████████████████████████████████████████████████| 1/1 [00:01<00:00,  1.37s/it]\n",
      "test_batch:   0%|                                                                                | 0/1 [00:00<?, ?it/s]"
     ]
    }
   ],
   "source": [
    "hyperparameters_filename = \"hyperparameters.py\"\n",
    "\n",
    "IMAGE_SIZES             = [(224,224), (64, 64)] #(448, 448)\n",
    "TRAIN_TEST_RATIOS       = [0.5] # [0.9]\n",
    "BATCH_SIZES             = [4]\n",
    "NUM_WORKERSES           = [4]\n",
    "\n",
    "BETASES                 = [(0.9,0.99)]\n",
    "LRS                     = [0.001]\n",
    "MOMENTUMS               = [0.9]\n",
    "WEIGHT_DECAYS           = [0.0005]\n",
    "\n",
    "STEP_SIZES              = [1000]\n",
    "GAMMAS                  = [0.1]\n",
    "\n",
    "NUM_EPOCHSES            = [1000]\n",
    "\n",
    "all_combintations = list(itertools.product(*[IMAGE_SIZES, TRAIN_TEST_RATIOS, BATCH_SIZES, NUM_WORKERSES, \\\n",
    "                                             BETASES, LRS, MOMENTUMS, WEIGHT_DECAYS, STEP_SIZES, GAMMAS, \\\n",
    "                                             NUM_EPOCHSES]))\n",
    "\n",
    "for combintation in all_combintations:\n",
    "    # Create the current hyper-parameters file\n",
    "    IMAGE_SIZE       = combintation[0]\n",
    "    TRAIN_TEST_RATIO = combintation[1]\n",
    "    BATCH_SIZE       = combintation[2]\n",
    "    NUM_WORKERS      = combintation[3]\n",
    "\n",
    "    BETAS            = combintation[4]\n",
    "    LR               = combintation[5]\n",
    "    MOMENTUM         = combintation[6]\n",
    "    WEIGHT_DECAY     = combintation[7]\n",
    "\n",
    "    STEP_SIZE        = combintation[8]\n",
    "    GAMMA            = combintation[9]\n",
    "\n",
    "    NUM_EPOCHS       = combintation[10]\n",
    "\n",
    "    with open(hyperparameters_filename, \"w\") as hyperparameters_file:\n",
    "        print(f\"IMAGE_SIZE={IMAGE_SIZE}\", file=hyperparameters_file)\n",
    "        print(f\"TRAIN_TEST_RATIO={TRAIN_TEST_RATIO}\", file=hyperparameters_file)\n",
    "        print(f\"BATCH_SIZE={BATCH_SIZE}\", file=hyperparameters_file)\n",
    "        print(f\"NUM_WORKERS={NUM_WORKERS}\", file=hyperparameters_file)\n",
    "        print(f\"\", file=hyperparameters_file)\n",
    "        print(f\"BETAS={BETAS}\", file=hyperparameters_file)\n",
    "        print(f\"LR={LR}\", file=hyperparameters_file)\n",
    "        print(f\"MOMENTUM={MOMENTUM}\", file=hyperparameters_file)\n",
    "        print(f\"WEIGHT_DECAY={WEIGHT_DECAY}\", file=hyperparameters_file)\n",
    "        print(f\"\", file=hyperparameters_file)\n",
    "        print(f\"STEP_SIZE={STEP_SIZE}\", file=hyperparameters_file)\n",
    "        print(f\"GAMMA={GAMMA}\", file=hyperparameters_file)\n",
    "        print(f\"\", file=hyperparameters_file)\n",
    "        print(f\"NUM_EPOCHS={NUM_EPOCHS}\", file=hyperparameters_file)\n",
    "\n",
    "    from models import SpecialFuseNetModel\n",
    "    from data_manager import rgbd_gradients_dataset, rgbd_gradients_dataloader\n",
    "    from train import FuseNetTrainer\n",
    "\n",
    "    print(\"Current Hyper-Parameters:\")\n",
    "    with open(hyperparameters_filename, \"r\") as hyperparameters_file:\n",
    "        print(hyperparameters_file.read())\n",
    "    \n",
    "    rgbd_grads_ds = rgbd_gradients_dataset(root=DATASET_DIR, use_transforms=True)\n",
    "\n",
    "    dl_train,dl_test = rgbd_gradients_dataloader(root=DATASET_DIR, use_transforms=True)\n",
    "\n",
    "    # _ = plot.rgbd_gradients_dataset_first_n(dataset=rgbd_grads_ds,n=5)\n",
    "    print(f'Found {len(rgbd_grads_ds)} images in dataset folder.')\n",
    "\n",
    "    sample_batch = next(iter(dl_train))\n",
    "    rgb_size = tuple(sample_batch['rgb'].shape[1:])\n",
    "    depth_size = tuple(sample_batch['depth'].shape[1:])\n",
    "    grads_size = tuple(sample_batch['x'].shape[1:])\n",
    "\n",
    "    # Train\n",
    "    fusenetmodel = SpecialFuseNetModel(rgb_size=rgb_size,depth_size=depth_size,grads_size=grads_size, device=device)\n",
    "    trainer = FuseNetTrainer(model=fusenetmodel, device=device)\n",
    "    checkpoint_file = 'checkpoints/special_fusenet'\n",
    "    if os.path.isfile(f'{checkpoint_file}.pt'):\n",
    "        os.remove(f'{checkpoint_file}.pt')\n",
    "    res = trainer.fit(dl_train, dl_test, early_stopping=1000, print_every=10, checkpoints=checkpoint_file)"
   ]
  },
  {
   "cell_type": "code",
   "execution_count": null,
   "metadata": {},
   "outputs": [],
   "source": [
    "# fusenetmodel = SpecialFuseNetModel(rgb_size=rgb_size,depth_size=depth_size,grads_size=grads_size, device=device)"
   ]
  },
  {
   "cell_type": "code",
   "execution_count": null,
   "metadata": {},
   "outputs": [],
   "source": [
    "# trainer = FuseNetTrainer(model=fusenetmodel, device=device)"
   ]
  },
  {
   "cell_type": "code",
   "execution_count": null,
   "metadata": {},
   "outputs": [],
   "source": [
    "# checkpoint_file = 'checkpoints/special_fusenet'\n",
    "# if os.path.isfile(f'{checkpoint_file}.pt'):\n",
    "#     os.remove(f'{checkpoint_file}.pt')"
   ]
  },
  {
   "cell_type": "code",
   "execution_count": null,
   "metadata": {},
   "outputs": [],
   "source": [
    "# res = trainer.fit(dl_train, dl_test, early_stopping=1000, print_every=10, checkpoints=checkpoint_file)"
   ]
  }
 ],
 "metadata": {
  "kernelspec": {
   "display_name": "Python 3",
   "language": "python",
   "name": "python3"
  },
  "language_info": {
   "codemirror_mode": {
    "name": "ipython",
    "version": 3
   },
   "file_extension": ".py",
   "mimetype": "text/x-python",
   "name": "python",
   "nbconvert_exporter": "python",
   "pygments_lexer": "ipython3",
   "version": "3.7.6"
  }
 },
 "nbformat": 4,
 "nbformat_minor": 4
}
