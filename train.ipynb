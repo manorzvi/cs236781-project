{
 "cells": [
  {
   "cell_type": "code",
   "execution_count": null,
   "metadata": {},
   "outputs": [],
   "source": [
    "import os\n",
    "import time\n",
    "import torch\n",
    "import torch.optim as optim\n",
    "from models import SpecialFuseNetModel\n",
    "from torchvision import transforms as T\n",
    "from data_manager import rgbd_gradients_dataset, rgbd_gradients_dataloader\n",
    "import plot\n",
    "%matplotlib notebook"
   ]
  },
  {
   "cell_type": "code",
   "execution_count": null,
   "metadata": {},
   "outputs": [],
   "source": [
    "CWD             = os.getcwd()\n",
    "DATASET_DIR     = os.path.join(CWD,'data/nyuv2')\n",
    "print(DATASET_DIR)"
   ]
  },
  {
   "cell_type": "code",
   "execution_count": null,
   "metadata": {},
   "outputs": [],
   "source": [
    "device = torch.device('cuda' if torch.cuda.is_available() else 'cpu')\n",
    "print('Using device:', device)\n",
    "IMAGE_SIZE = (64,64)\n",
    "TRAIN_TEST_RATIO = 0.9\n",
    "BATCH_SIZE=4\n",
    "NUM_WORKERS=4"
   ]
  },
  {
   "cell_type": "code",
   "execution_count": null,
   "metadata": {},
   "outputs": [],
   "source": [
    "tf_rgb = T.Compose([\n",
    "    # Resize to constant spatial dimensions\n",
    "    T.Resize(IMAGE_SIZE),\n",
    "    # PIL.Image -> torch.Tensor\n",
    "    T.ToTensor(),\n",
    "    # Dynamic range [0,1] -> [-1, 1]\n",
    "    T.Normalize(mean=(.5,.5,.5), std=(.5,.5,.5)),\n",
    "])\n",
    "tf_depth = T.Compose([\n",
    "    # Resize to constant spatial dimensions\n",
    "    T.Resize(IMAGE_SIZE),\n",
    "    # PIL.Image -> torch.Tensor\n",
    "    T.ToTensor(),\n",
    "    # Dynamic range [0,1] -> [-1, 1]\n",
    "    T.Normalize(mean=(.5,), std=(.5,)),\n",
    "])"
   ]
  },
  {
   "cell_type": "code",
   "execution_count": null,
   "metadata": {},
   "outputs": [],
   "source": [
    "rgbd_grads_ds = rgbd_gradients_dataset(root=DATASET_DIR, transforms_rgb=tf_rgb, transforms_depth=tf_depth)"
   ]
  },
  {
   "cell_type": "code",
   "execution_count": null,
   "metadata": {},
   "outputs": [],
   "source": [
    "dl_train,dl_test = rgbd_gradients_dataloader(root=DATASET_DIR,\n",
    "                                             batch_size=BATCH_SIZE,\n",
    "                                             num_workers=NUM_WORKERS,\n",
    "                                             train_test_ration=TRAIN_TEST_RATIO,\n",
    "                                             transforms_rgb=tf_rgb,\n",
    "                                             transforms_depth=tf_depth)"
   ]
  },
  {
   "cell_type": "code",
   "execution_count": null,
   "metadata": {},
   "outputs": [],
   "source": [
    "# _ = plot.rgbd_gradients_dataset_first_n(dataset=rgbd_grads_ds,n=5)\n",
    "print(f'Found {len(rgbd_grads_ds)} images in dataset folder.')"
   ]
  },
  {
   "cell_type": "code",
   "execution_count": null,
   "metadata": {},
   "outputs": [],
   "source": [
    "print('Measure batch generation time:')\n",
    "times = []\n",
    "start = time.time()\n",
    "for i, _ in enumerate(dl_train):   \n",
    "    end = time.time()\n",
    "    times.append(end-start)\n",
    "    start = time.time()\n",
    "print(sum(times)/len(times))"
   ]
  },
  {
   "cell_type": "code",
   "execution_count": null,
   "metadata": {},
   "outputs": [],
   "source": [
    "sample_batch = next(iter(dl_train))\n",
    "rgb_size = tuple(sample_batch['rgb'].shape[1:])\n",
    "depth_size = tuple(sample_batch['depth'].shape[1:])\n",
    "grads_size = tuple(sample_batch['x'].shape[1:])"
   ]
  },
  {
   "cell_type": "code",
   "execution_count": null,
   "metadata": {},
   "outputs": [],
   "source": [
    "fusenetmodel = SpecialFuseNetModel(rgb_size=rgb_size,depth_size=depth_size,grads_size=grads_size,\n",
    "                                   device=device,mode='train')"
   ]
  }
 ],
 "metadata": {
  "kernelspec": {
   "display_name": "Python 3",
   "language": "python",
   "name": "python3"
  },
  "language_info": {
   "codemirror_mode": {
    "name": "ipython",
    "version": 3
   },
   "file_extension": ".py",
   "mimetype": "text/x-python",
   "name": "python",
   "nbconvert_exporter": "python",
   "pygments_lexer": "ipython3",
   "version": "3.7.6"
  }
 },
 "nbformat": 4,
 "nbformat_minor": 4
}
