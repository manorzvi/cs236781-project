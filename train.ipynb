{
 "cells": [
  {
   "cell_type": "code",
   "execution_count": 1,
   "metadata": {},
   "outputs": [],
   "source": [
    "import os\n",
    "import time\n",
    "import torch\n",
    "import sys\n",
    "import torch.optim as optim\n",
    "from torchvision import transforms as T\n",
    "%matplotlib notebook"
   ]
  },
  {
   "cell_type": "code",
   "execution_count": 2,
   "metadata": {},
   "outputs": [],
   "source": [
    "from models import SpecialFuseNetModel\n",
    "from data_manager import rgbd_gradients_dataset, rgbd_gradients_dataloader\n",
    "from train import FuseNetTrainer"
   ]
  },
  {
   "cell_type": "code",
   "execution_count": 3,
   "metadata": {},
   "outputs": [
    {
     "name": "stdout",
     "output_type": "stream",
     "text": [
      "/home/manor/cs236781-DeepLearning/project/master/data/nyuv2\n"
     ]
    }
   ],
   "source": [
    "CWD             = os.getcwd()\n",
    "DATASET_DIR     = os.path.join(CWD,'data/nyuv2')\n",
    "print(DATASET_DIR)"
   ]
  },
  {
   "cell_type": "code",
   "execution_count": 4,
   "metadata": {},
   "outputs": [
    {
     "name": "stdout",
     "output_type": "stream",
     "text": [
      "Using device: cpu\n"
     ]
    }
   ],
   "source": [
    "device = torch.device('cuda' if torch.cuda.is_available() else 'cpu')\n",
    "print('Using device:', device)"
   ]
  },
  {
   "cell_type": "code",
   "execution_count": 5,
   "metadata": {},
   "outputs": [],
   "source": [
    "rgbd_grads_ds = rgbd_gradients_dataset(root=DATASET_DIR, use_transforms=True)"
   ]
  },
  {
   "cell_type": "code",
   "execution_count": 6,
   "metadata": {},
   "outputs": [],
   "source": [
    "dl_train,dl_test = rgbd_gradients_dataloader(root=DATASET_DIR,use_transforms=True)"
   ]
  },
  {
   "cell_type": "code",
   "execution_count": 7,
   "metadata": {},
   "outputs": [
    {
     "name": "stdout",
     "output_type": "stream",
     "text": [
      "Found 1288 images in dataset folder.\n"
     ]
    }
   ],
   "source": [
    "# _ = plot.rgbd_gradients_dataset_first_n(dataset=rgbd_grads_ds,n=5)\n",
    "print(f'Found {len(rgbd_grads_ds)} images in dataset folder.')"
   ]
  },
  {
   "cell_type": "code",
   "execution_count": 8,
   "metadata": {},
   "outputs": [],
   "source": [
    "sample_batch = next(iter(dl_train))\n",
    "rgb_size = tuple(sample_batch['rgb'].shape[1:])\n",
    "depth_size = tuple(sample_batch['depth'].shape[1:])\n",
    "grads_size = tuple(sample_batch['x'].shape[1:])"
   ]
  },
  {
   "cell_type": "code",
   "execution_count": 9,
   "metadata": {},
   "outputs": [
    {
     "name": "stdout",
     "output_type": "stream",
     "text": [
      "[I] - device=cpu\n",
      "    - seed=42\n",
      "    - dropout_p=0.4\n",
      "    - optimizer=None\n",
      "    - scheduler=None\n",
      "[I] - Init SpecialFuseNet\n",
      "    - warm start=True\n",
      "    - BN momentum=0.1\n",
      "    - dropout_p=0.4\n",
      "[I] - Initialize Net.\n",
      "    - Init type=xavier\n",
      "    - Init gain=0.02\n",
      "\n",
      "[I] - default optimizer set: SGD(lr=0.001,momentum=0.9,weight_decay=0.0005)\n",
      "[I] - default scheduler set: StepSR(step_size=1000,gamma=0.1)\n"
     ]
    }
   ],
   "source": [
    "fusenetmodel = SpecialFuseNetModel(rgb_size=rgb_size,depth_size=depth_size,grads_size=grads_size, device=device)"
   ]
  },
  {
   "cell_type": "code",
   "execution_count": 10,
   "metadata": {},
   "outputs": [],
   "source": [
    "trainer = FuseNetTrainer(model=fusenetmodel, device=device)"
   ]
  },
  {
   "cell_type": "code",
   "execution_count": 11,
   "metadata": {},
   "outputs": [],
   "source": [
    "checkpoint_file = 'checkpoints/special_fusenet'\n",
    "if os.path.isfile(f'{checkpoint_file}.pt'):\n",
    "    os.remove(f'{checkpoint_file}.pt')"
   ]
  },
  {
   "cell_type": "code",
   "execution_count": null,
   "metadata": {},
   "outputs": [
    {
     "name": "stdout",
     "output_type": "stream",
     "text": [
      "--- EPOCH 1/400 ---\n",
      "train_batch (Avg. Loss 0.077: 100%|██████████| 290/290 [06:05<00:00,  1.26s/it]\n",
      "test_batch (Avg. Loss 0.067: 100%|██████████| 32/32 [00:14<00:00,  2.19it/s]\n",
      "train_batch (Avg. Loss 0.066: 100%|██████████| 290/290 [06:35<00:00,  1.36s/it]\n",
      "test_batch (Avg. Loss 0.061: 100%|██████████| 32/32 [00:10<00:00,  2.91it/s]\n",
      "train_batch (Avg. Loss 0.060: 100%|██████████| 290/290 [05:27<00:00,  1.13s/it]\n",
      "test_batch (Avg. Loss 0.066: 100%|██████████| 32/32 [00:09<00:00,  3.31it/s]\n",
      "train_batch (Avg. Loss 0.059: 100%|██████████| 290/290 [05:21<00:00,  1.11s/it]\n",
      "test_batch (Avg. Loss 0.063: 100%|██████████| 32/32 [00:09<00:00,  3.35it/s]\n",
      "train_batch (Avg. Loss 0.057: 100%|██████████| 290/290 [05:31<00:00,  1.14s/it]\n",
      "test_batch (Avg. Loss 0.063: 100%|██████████| 32/32 [00:16<00:00,  1.90it/s]\n",
      "train_batch (Avg. Loss 0.057: 100%|██████████| 290/290 [05:54<00:00,  1.22s/it]\n",
      "test_batch (Avg. Loss 0.058: 100%|██████████| 32/32 [00:15<00:00,  2.01it/s]\n",
      "train_batch (0.031):  39%|███▉      | 113/290 [03:06<04:47,  1.62s/it]"
     ]
    }
   ],
   "source": [
    "res = trainer.fit(dl_train, dl_test, early_stopping=20, print_every=10,checkpoints=checkpoint_file)"
   ]
  },
  {
   "cell_type": "code",
   "execution_count": null,
   "metadata": {},
   "outputs": [],
   "source": []
  }
 ],
 "metadata": {
  "kernelspec": {
   "display_name": "Python [conda env:cs236781-project] *",
   "language": "python",
   "name": "conda-env-cs236781-project-py"
  },
  "language_info": {
   "codemirror_mode": {
    "name": "ipython",
    "version": 3
   },
   "file_extension": ".py",
   "mimetype": "text/x-python",
   "name": "python",
   "nbconvert_exporter": "python",
   "pygments_lexer": "ipython3",
   "version": "3.7.6"
  }
 },
 "nbformat": 4,
 "nbformat_minor": 4
}
