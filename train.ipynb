{
 "cells": [
  {
   "cell_type": "code",
   "execution_count": 1,
   "metadata": {},
   "outputs": [],
   "source": [
    "import os\n",
    "import time\n",
    "import torch\n",
    "import sys\n",
    "import torch.optim as optim\n",
    "from torchvision import transforms as T\n",
    "%matplotlib notebook"
   ]
  },
  {
   "cell_type": "code",
   "execution_count": 2,
   "metadata": {},
   "outputs": [],
   "source": [
    "from models import SpecialFuseNetModel\n",
    "from data_manager import rgbd_gradients_dataset, rgbd_gradients_dataloader\n",
    "from train import FuseNetTrainer"
   ]
  },
  {
   "cell_type": "code",
   "execution_count": 3,
   "metadata": {},
   "outputs": [
    {
     "name": "stdout",
     "output_type": "stream",
     "text": [
      "C:\\Users\\tomav\\Documents\\GitHub\\cs236781-project\\data/nyuv2\n"
     ]
    }
   ],
   "source": [
    "CWD             = os.getcwd()\n",
    "DATASET_DIR     = os.path.join(CWD,'data/nyuv2')\n",
    "print(DATASET_DIR)"
   ]
  },
  {
   "cell_type": "code",
   "execution_count": 4,
   "metadata": {},
   "outputs": [
    {
     "name": "stdout",
     "output_type": "stream",
     "text": [
      "Using device: cuda\n"
     ]
    }
   ],
   "source": [
    "device = torch.device('cuda' if torch.cuda.is_available() else 'cpu')\n",
    "print('Using device:', device)"
   ]
  },
  {
   "cell_type": "code",
   "execution_count": 5,
   "metadata": {},
   "outputs": [],
   "source": [
    "rgbd_grads_ds = rgbd_gradients_dataset(root=DATASET_DIR, use_transforms=True)"
   ]
  },
  {
   "cell_type": "code",
   "execution_count": 6,
   "metadata": {},
   "outputs": [],
   "source": [
    "dl_train,dl_test = rgbd_gradients_dataloader(root=DATASET_DIR,\n",
    "                                             use_transforms=True)"
   ]
  },
  {
   "cell_type": "code",
   "execution_count": 7,
   "metadata": {},
   "outputs": [
    {
     "name": "stdout",
     "output_type": "stream",
     "text": [
      "Found 6 images in dataset folder.\n"
     ]
    }
   ],
   "source": [
    "# _ = plot.rgbd_gradients_dataset_first_n(dataset=rgbd_grads_ds,n=5)\n",
    "print(f'Found {len(rgbd_grads_ds)} images in dataset folder.')"
   ]
  },
  {
   "cell_type": "code",
   "execution_count": 8,
   "metadata": {},
   "outputs": [],
   "source": [
    "sample_batch = next(iter(dl_train))\n",
    "rgb_size = tuple(sample_batch['rgb'].shape[1:])\n",
    "depth_size = tuple(sample_batch['depth'].shape[1:])\n",
    "grads_size = tuple(sample_batch['x'].shape[1:])"
   ]
  },
  {
   "cell_type": "code",
   "execution_count": 9,
   "metadata": {},
   "outputs": [
    {
     "name": "stdout",
     "output_type": "stream",
     "text": [
      "[I] - default optimizer set: SGD(lr=0.001,momentum=0.9,weight_decay=0.0005)\n",
      "[I] - default scheduler set: StepSR(step_size=1000,gamma=0.1)\n"
     ]
    }
   ],
   "source": [
    "fusenetmodel = SpecialFuseNetModel(rgb_size=rgb_size,depth_size=depth_size,grads_size=grads_size, device=device)"
   ]
  },
  {
   "cell_type": "code",
   "execution_count": 10,
   "metadata": {},
   "outputs": [],
   "source": [
    "trainer = FuseNetTrainer(model=fusenetmodel, device=device)"
   ]
  },
  {
   "cell_type": "code",
   "execution_count": 11,
   "metadata": {},
   "outputs": [],
   "source": [
    "checkpoint_file = 'checkpoints/special_fusenet'\n",
    "if os.path.isfile(f'{checkpoint_file}.pt'):\n",
    "    os.remove(f'{checkpoint_file}.pt')"
   ]
  },
  {
   "cell_type": "code",
   "execution_count": null,
   "metadata": {},
   "outputs": [
    {
     "name": "stdout",
     "output_type": "stream",
     "text": [
      "--- EPOCH 1/1000 ---\n",
      "train_batch (Avg. Loss 0.014: 100%|██████████████████████████████████████████████████████| 1/1 [00:01<00:00,  1.33s/it]\n",
      "test_batch (Avg. Loss 0.014: 100%|███████████████████████████████████████████████████████| 1/1 [00:01<00:00,  1.16s/it]\n",
      "train_batch (Avg. Loss 0.014: 100%|██████████████████████████████████████████████████████| 1/1 [00:01<00:00,  1.31s/it]\n",
      "test_batch (Avg. Loss 0.014: 100%|███████████████████████████████████████████████████████| 1/1 [00:01<00:00,  1.12s/it]\n",
      "[info] - Saved checkpoint checkpoints/special_fusenet.pt at epoch 2\n",
      "train_batch (Avg. Loss 0.014: 100%|██████████████████████████████████████████████████████| 1/1 [00:01<00:00,  1.40s/it]\n",
      "test_batch (Avg. Loss 0.014: 100%|███████████████████████████████████████████████████████| 1/1 [00:01<00:00,  1.17s/it]\n",
      "[info] - Saved checkpoint checkpoints/special_fusenet.pt at epoch 3\n",
      "train_batch (Avg. Loss 0.014: 100%|██████████████████████████████████████████████████████| 1/1 [00:01<00:00,  1.39s/it]\n",
      "test_batch (Avg. Loss 0.014: 100%|███████████████████████████████████████████████████████| 1/1 [00:01<00:00,  1.14s/it]\n",
      "[info] - Saved checkpoint checkpoints/special_fusenet.pt at epoch 4\n",
      "train_batch (Avg. Loss 0.014: 100%|██████████████████████████████████████████████████████| 1/1 [00:01<00:00,  1.32s/it]\n",
      "test_batch (Avg. Loss 0.014: 100%|███████████████████████████████████████████████████████| 1/1 [00:01<00:00,  1.10s/it]\n",
      "[info] - Saved checkpoint checkpoints/special_fusenet.pt at epoch 5\n",
      "train_batch (Avg. Loss 0.014: 100%|██████████████████████████████████████████████████████| 1/1 [00:01<00:00,  1.31s/it]\n",
      "test_batch (Avg. Loss 0.014: 100%|███████████████████████████████████████████████████████| 1/1 [00:01<00:00,  1.08s/it]\n",
      "[info] - Saved checkpoint checkpoints/special_fusenet.pt at epoch 6\n",
      "train_batch (Avg. Loss 0.014: 100%|██████████████████████████████████████████████████████| 1/1 [00:01<00:00,  1.33s/it]\n",
      "test_batch (Avg. Loss 0.014: 100%|███████████████████████████████████████████████████████| 1/1 [00:01<00:00,  1.11s/it]\n",
      "[info] - Saved checkpoint checkpoints/special_fusenet.pt at epoch 7\n",
      "train_batch (Avg. Loss 0.014: 100%|██████████████████████████████████████████████████████| 1/1 [00:01<00:00,  1.34s/it]\n",
      "test_batch (Avg. Loss 0.014: 100%|███████████████████████████████████████████████████████| 1/1 [00:01<00:00,  1.08s/it]\n",
      "[info] - Saved checkpoint checkpoints/special_fusenet.pt at epoch 8\n",
      "train_batch (Avg. Loss 0.014: 100%|██████████████████████████████████████████████████████| 1/1 [00:01<00:00,  1.32s/it]\n",
      "test_batch (Avg. Loss 0.014: 100%|███████████████████████████████████████████████████████| 1/1 [00:01<00:00,  1.07s/it]\n",
      "[info] - Saved checkpoint checkpoints/special_fusenet.pt at epoch 9\n",
      "train_batch (Avg. Loss 0.014: 100%|██████████████████████████████████████████████████████| 1/1 [00:01<00:00,  1.31s/it]\n",
      "test_batch (Avg. Loss 0.014: 100%|███████████████████████████████████████████████████████| 1/1 [00:01<00:00,  1.10s/it]\n",
      "[info] - Saved checkpoint checkpoints/special_fusenet.pt at epoch 10\n",
      "--- EPOCH 11/1000 ---\n",
      "train_batch (Avg. Loss 0.014: 100%|██████████████████████████████████████████████████████| 1/1 [00:01<00:00,  1.33s/it]\n",
      "test_batch (Avg. Loss 0.014: 100%|███████████████████████████████████████████████████████| 1/1 [00:01<00:00,  1.10s/it]\n",
      "[info] - Saved checkpoint checkpoints/special_fusenet.pt at epoch 11\n",
      "train_batch (Avg. Loss 0.014: 100%|██████████████████████████████████████████████████████| 1/1 [00:01<00:00,  1.31s/it]\n",
      "test_batch (Avg. Loss 0.014: 100%|███████████████████████████████████████████████████████| 1/1 [00:01<00:00,  1.08s/it]\n",
      "[info] - Saved checkpoint checkpoints/special_fusenet.pt at epoch 12\n",
      "train_batch (Avg. Loss 0.014: 100%|██████████████████████████████████████████████████████| 1/1 [00:01<00:00,  1.33s/it]\n",
      "test_batch (Avg. Loss 0.014: 100%|███████████████████████████████████████████████████████| 1/1 [00:01<00:00,  1.13s/it]\n",
      "[info] - Saved checkpoint checkpoints/special_fusenet.pt at epoch 13\n",
      "train_batch (Avg. Loss 0.014: 100%|██████████████████████████████████████████████████████| 1/1 [00:01<00:00,  1.32s/it]\n",
      "test_batch (Avg. Loss 0.014: 100%|███████████████████████████████████████████████████████| 1/1 [00:01<00:00,  1.09s/it]\n",
      "[info] - Saved checkpoint checkpoints/special_fusenet.pt at epoch 14\n",
      "train_batch (Avg. Loss 0.014: 100%|██████████████████████████████████████████████████████| 1/1 [00:01<00:00,  1.30s/it]\n",
      "test_batch (Avg. Loss 0.014: 100%|███████████████████████████████████████████████████████| 1/1 [00:01<00:00,  1.10s/it]\n",
      "[info] - Saved checkpoint checkpoints/special_fusenet.pt at epoch 15\n",
      "train_batch (Avg. Loss 0.014: 100%|██████████████████████████████████████████████████████| 1/1 [00:01<00:00,  1.31s/it]\n",
      "test_batch (Avg. Loss 0.014: 100%|███████████████████████████████████████████████████████| 1/1 [00:01<00:00,  1.11s/it]\n",
      "[info] - Saved checkpoint checkpoints/special_fusenet.pt at epoch 16\n",
      "train_batch (Avg. Loss 0.014: 100%|██████████████████████████████████████████████████████| 1/1 [00:01<00:00,  1.32s/it]\n",
      "test_batch (Avg. Loss 0.014: 100%|███████████████████████████████████████████████████████| 1/1 [00:01<00:00,  1.11s/it]\n",
      "[info] - Saved checkpoint checkpoints/special_fusenet.pt at epoch 17\n",
      "train_batch (Avg. Loss 0.014: 100%|██████████████████████████████████████████████████████| 1/1 [00:01<00:00,  1.35s/it]\n",
      "test_batch (Avg. Loss 0.014: 100%|███████████████████████████████████████████████████████| 1/1 [00:01<00:00,  1.14s/it]\n",
      "[info] - Saved checkpoint checkpoints/special_fusenet.pt at epoch 18\n",
      "train_batch (Avg. Loss 0.014: 100%|██████████████████████████████████████████████████████| 1/1 [00:01<00:00,  1.36s/it]\n",
      "test_batch (Avg. Loss 0.014: 100%|███████████████████████████████████████████████████████| 1/1 [00:01<00:00,  1.13s/it]\n",
      "[info] - Saved checkpoint checkpoints/special_fusenet.pt at epoch 19\n",
      "train_batch (Avg. Loss 0.014: 100%|██████████████████████████████████████████████████████| 1/1 [00:01<00:00,  1.33s/it]\n",
      "test_batch (Avg. Loss 0.014: 100%|███████████████████████████████████████████████████████| 1/1 [00:01<00:00,  1.12s/it]\n",
      "[info] - Saved checkpoint checkpoints/special_fusenet.pt at epoch 20\n",
      "--- EPOCH 21/1000 ---\n",
      "train_batch (Avg. Loss 0.014: 100%|██████████████████████████████████████████████████████| 1/1 [00:01<00:00,  1.32s/it]\n",
      "test_batch (Avg. Loss 0.014: 100%|███████████████████████████████████████████████████████| 1/1 [00:01<00:00,  1.12s/it]\n",
      "[info] - Saved checkpoint checkpoints/special_fusenet.pt at epoch 21\n",
      "train_batch (Avg. Loss 0.014: 100%|██████████████████████████████████████████████████████| 1/1 [00:01<00:00,  1.34s/it]\n",
      "test_batch (Avg. Loss 0.014: 100%|███████████████████████████████████████████████████████| 1/1 [00:01<00:00,  1.16s/it]\n",
      "train_batch (Avg. Loss 0.014: 100%|██████████████████████████████████████████████████████| 1/1 [00:01<00:00,  1.33s/it]\n",
      "test_batch (Avg. Loss 0.013: 100%|███████████████████████████████████████████████████████| 1/1 [00:01<00:00,  1.10s/it]\n",
      "[info] - Saved checkpoint checkpoints/special_fusenet.pt at epoch 23\n",
      "train_batch (Avg. Loss 0.013: 100%|██████████████████████████████████████████████████████| 1/1 [00:01<00:00,  1.29s/it]\n",
      "test_batch (Avg. Loss 0.014: 100%|███████████████████████████████████████████████████████| 1/1 [00:01<00:00,  1.10s/it]\n",
      "train_batch (Avg. Loss 0.013: 100%|██████████████████████████████████████████████████████| 1/1 [00:01<00:00,  1.32s/it]\n",
      "test_batch (Avg. Loss 0.013: 100%|███████████████████████████████████████████████████████| 1/1 [00:01<00:00,  1.09s/it]\n",
      "[info] - Saved checkpoint checkpoints/special_fusenet.pt at epoch 25\n",
      "train_batch (Avg. Loss 0.013: 100%|██████████████████████████████████████████████████████| 1/1 [00:01<00:00,  1.28s/it]\n",
      "test_batch (Avg. Loss 0.013: 100%|███████████████████████████████████████████████████████| 1/1 [00:01<00:00,  1.10s/it]\n",
      "[info] - Saved checkpoint checkpoints/special_fusenet.pt at epoch 26\n",
      "train_batch (Avg. Loss 0.013: 100%|██████████████████████████████████████████████████████| 1/1 [00:01<00:00,  1.31s/it]\n",
      "test_batch (Avg. Loss 0.013: 100%|███████████████████████████████████████████████████████| 1/1 [00:01<00:00,  1.08s/it]\n"
     ]
    },
    {
     "name": "stdout",
     "output_type": "stream",
     "text": [
      "train_batch (Avg. Loss 0.013: 100%|██████████████████████████████████████████████████████| 1/1 [00:01<00:00,  1.28s/it]\n",
      "test_batch (Avg. Loss 0.013: 100%|███████████████████████████████████████████████████████| 1/1 [00:01<00:00,  1.10s/it]\n",
      "[info] - Saved checkpoint checkpoints/special_fusenet.pt at epoch 28\n",
      "train_batch (Avg. Loss 0.013: 100%|██████████████████████████████████████████████████████| 1/1 [00:01<00:00,  1.29s/it]\n",
      "test_batch (Avg. Loss 0.013: 100%|███████████████████████████████████████████████████████| 1/1 [00:01<00:00,  1.08s/it]\n",
      "train_batch (Avg. Loss 0.013: 100%|██████████████████████████████████████████████████████| 1/1 [00:01<00:00,  1.32s/it]\n",
      "test_batch (Avg. Loss 0.013: 100%|███████████████████████████████████████████████████████| 1/1 [00:01<00:00,  1.10s/it]\n",
      "[info] - Saved checkpoint checkpoints/special_fusenet.pt at epoch 30\n",
      "--- EPOCH 31/1000 ---\n",
      "train_batch (Avg. Loss 0.013: 100%|██████████████████████████████████████████████████████| 1/1 [00:01<00:00,  1.31s/it]\n",
      "test_batch (Avg. Loss 0.013: 100%|███████████████████████████████████████████████████████| 1/1 [00:01<00:00,  1.08s/it]\n",
      "[info] - Saved checkpoint checkpoints/special_fusenet.pt at epoch 31\n",
      "train_batch (Avg. Loss 0.013: 100%|██████████████████████████████████████████████████████| 1/1 [00:01<00:00,  1.34s/it]\n",
      "test_batch (Avg. Loss 0.013: 100%|███████████████████████████████████████████████████████| 1/1 [00:01<00:00,  1.07s/it]\n",
      "[info] - Saved checkpoint checkpoints/special_fusenet.pt at epoch 32\n",
      "train_batch (Avg. Loss 0.013: 100%|██████████████████████████████████████████████████████| 1/1 [00:01<00:00,  1.31s/it]\n",
      "test_batch (Avg. Loss 0.013: 100%|███████████████████████████████████████████████████████| 1/1 [00:01<00:00,  1.07s/it]\n",
      "train_batch (Avg. Loss 0.013: 100%|██████████████████████████████████████████████████████| 1/1 [00:01<00:00,  1.35s/it]\n",
      "test_batch (Avg. Loss 0.013: 100%|███████████████████████████████████████████████████████| 1/1 [00:01<00:00,  1.12s/it]\n",
      "train_batch (Avg. Loss 0.013: 100%|██████████████████████████████████████████████████████| 1/1 [00:01<00:00,  1.30s/it]\n",
      "test_batch (Avg. Loss 0.013: 100%|███████████████████████████████████████████████████████| 1/1 [00:01<00:00,  1.07s/it]\n",
      "train_batch (Avg. Loss 0.013: 100%|██████████████████████████████████████████████████████| 1/1 [00:01<00:00,  1.29s/it]\n",
      "test_batch (Avg. Loss 0.013: 100%|███████████████████████████████████████████████████████| 1/1 [00:01<00:00,  1.09s/it]\n",
      "train_batch (Avg. Loss 0.013: 100%|██████████████████████████████████████████████████████| 1/1 [00:01<00:00,  1.32s/it]\n",
      "test_batch (Avg. Loss 0.013: 100%|███████████████████████████████████████████████████████| 1/1 [00:01<00:00,  1.06s/it]\n",
      "[info] - Saved checkpoint checkpoints/special_fusenet.pt at epoch 37\n",
      "train_batch (Avg. Loss 0.013: 100%|██████████████████████████████████████████████████████| 1/1 [00:01<00:00,  1.33s/it]\n",
      "test_batch (Avg. Loss 0.013: 100%|███████████████████████████████████████████████████████| 1/1 [00:01<00:00,  1.10s/it]\n",
      "[info] - Saved checkpoint checkpoints/special_fusenet.pt at epoch 38\n",
      "train_batch (Avg. Loss 0.013: 100%|██████████████████████████████████████████████████████| 1/1 [00:01<00:00,  1.34s/it]\n",
      "test_batch (Avg. Loss 0.013: 100%|███████████████████████████████████████████████████████| 1/1 [00:01<00:00,  1.11s/it]\n",
      "train_batch (Avg. Loss 0.013: 100%|██████████████████████████████████████████████████████| 1/1 [00:01<00:00,  1.32s/it]\n",
      "test_batch (Avg. Loss 0.013: 100%|███████████████████████████████████████████████████████| 1/1 [00:01<00:00,  1.12s/it]\n",
      "--- EPOCH 41/1000 ---\n",
      "train_batch (Avg. Loss 0.013: 100%|██████████████████████████████████████████████████████| 1/1 [00:01<00:00,  1.29s/it]\n",
      "test_batch (Avg. Loss 0.013: 100%|███████████████████████████████████████████████████████| 1/1 [00:01<00:00,  1.09s/it]\n",
      "train_batch (Avg. Loss 0.013: 100%|██████████████████████████████████████████████████████| 1/1 [00:01<00:00,  1.29s/it]\n",
      "test_batch (Avg. Loss 0.013: 100%|███████████████████████████████████████████████████████| 1/1 [00:01<00:00,  1.10s/it]\n",
      "train_batch (Avg. Loss 0.013: 100%|██████████████████████████████████████████████████████| 1/1 [00:01<00:00,  1.32s/it]\n",
      "test_batch (Avg. Loss 0.013: 100%|███████████████████████████████████████████████████████| 1/1 [00:01<00:00,  1.09s/it]\n",
      "[info] - Saved checkpoint checkpoints/special_fusenet.pt at epoch 43\n",
      "train_batch (Avg. Loss 0.013: 100%|██████████████████████████████████████████████████████| 1/1 [00:01<00:00,  1.31s/it]\n",
      "test_batch (Avg. Loss 0.013: 100%|███████████████████████████████████████████████████████| 1/1 [00:01<00:00,  1.10s/it]\n",
      "train_batch (Avg. Loss 0.013: 100%|██████████████████████████████████████████████████████| 1/1 [00:01<00:00,  1.30s/it]\n",
      "test_batch (Avg. Loss 0.013: 100%|███████████████████████████████████████████████████████| 1/1 [00:01<00:00,  1.08s/it]\n",
      "[info] - Saved checkpoint checkpoints/special_fusenet.pt at epoch 45\n",
      "train_batch (Avg. Loss 0.013: 100%|██████████████████████████████████████████████████████| 1/1 [00:01<00:00,  1.34s/it]\n",
      "test_batch (Avg. Loss 0.013: 100%|███████████████████████████████████████████████████████| 1/1 [00:01<00:00,  1.07s/it]\n",
      "train_batch (Avg. Loss 0.013: 100%|██████████████████████████████████████████████████████| 1/1 [00:01<00:00,  1.30s/it]\n",
      "test_batch (Avg. Loss 0.013: 100%|███████████████████████████████████████████████████████| 1/1 [00:01<00:00,  1.11s/it]\n",
      "train_batch (Avg. Loss 0.013: 100%|██████████████████████████████████████████████████████| 1/1 [00:01<00:00,  1.30s/it]\n",
      "test_batch (Avg. Loss 0.013: 100%|███████████████████████████████████████████████████████| 1/1 [00:01<00:00,  1.14s/it]\n",
      "[info] - Saved checkpoint checkpoints/special_fusenet.pt at epoch 48\n",
      "train_batch (Avg. Loss 0.013: 100%|██████████████████████████████████████████████████████| 1/1 [00:01<00:00,  1.30s/it]\n",
      "test_batch (Avg. Loss 0.013: 100%|███████████████████████████████████████████████████████| 1/1 [00:01<00:00,  1.12s/it]\n",
      "train_batch (Avg. Loss 0.013: 100%|██████████████████████████████████████████████████████| 1/1 [00:01<00:00,  1.34s/it]\n",
      "test_batch (Avg. Loss 0.013: 100%|███████████████████████████████████████████████████████| 1/1 [00:01<00:00,  1.12s/it]\n",
      "--- EPOCH 51/1000 ---\n",
      "train_batch (Avg. Loss 0.013: 100%|██████████████████████████████████████████████████████| 1/1 [00:01<00:00,  1.43s/it]\n",
      "test_batch (Avg. Loss 0.013: 100%|███████████████████████████████████████████████████████| 1/1 [00:01<00:00,  1.14s/it]\n",
      "[info] - Saved checkpoint checkpoints/special_fusenet.pt at epoch 51\n",
      "train_batch (Avg. Loss 0.013: 100%|██████████████████████████████████████████████████████| 1/1 [00:01<00:00,  1.37s/it]\n",
      "test_batch (Avg. Loss 0.013: 100%|███████████████████████████████████████████████████████| 1/1 [00:01<00:00,  1.13s/it]\n",
      "train_batch (Avg. Loss 0.013: 100%|██████████████████████████████████████████████████████| 1/1 [00:01<00:00,  1.45s/it]\n",
      "test_batch (Avg. Loss 0.013: 100%|███████████████████████████████████████████████████████| 1/1 [00:01<00:00,  1.14s/it]\n",
      "train_batch (Avg. Loss 0.013: 100%|██████████████████████████████████████████████████████| 1/1 [00:01<00:00,  1.47s/it]\n",
      "test_batch (Avg. Loss 0.013: 100%|███████████████████████████████████████████████████████| 1/1 [00:01<00:00,  1.23s/it]\n",
      "train_batch (Avg. Loss 0.013: 100%|██████████████████████████████████████████████████████| 1/1 [00:01<00:00,  1.48s/it]\n",
      "test_batch (Avg. Loss 0.013: 100%|███████████████████████████████████████████████████████| 1/1 [00:01<00:00,  1.19s/it]\n",
      "train_batch (Avg. Loss 0.013: 100%|██████████████████████████████████████████████████████| 1/1 [00:01<00:00,  1.45s/it]\n",
      "test_batch (Avg. Loss 0.013: 100%|███████████████████████████████████████████████████████| 1/1 [00:01<00:00,  1.14s/it]\n",
      "train_batch (Avg. Loss 0.013: 100%|██████████████████████████████████████████████████████| 1/1 [00:01<00:00,  1.42s/it]\n",
      "test_batch (Avg. Loss 0.013: 100%|███████████████████████████████████████████████████████| 1/1 [00:01<00:00,  1.18s/it]\n",
      "train_batch (Avg. Loss 0.013: 100%|██████████████████████████████████████████████████████| 1/1 [00:01<00:00,  1.33s/it]\n"
     ]
    },
    {
     "name": "stdout",
     "output_type": "stream",
     "text": [
      "test_batch (Avg. Loss 0.013: 100%|███████████████████████████████████████████████████████| 1/1 [00:01<00:00,  1.15s/it]\n",
      "[info] - Saved checkpoint checkpoints/special_fusenet.pt at epoch 58\n",
      "train_batch (Avg. Loss 0.013: 100%|██████████████████████████████████████████████████████| 1/1 [00:01<00:00,  1.34s/it]\n",
      "test_batch (Avg. Loss 0.012: 100%|███████████████████████████████████████████████████████| 1/1 [00:01<00:00,  1.20s/it]\n",
      "[info] - Saved checkpoint checkpoints/special_fusenet.pt at epoch 59\n",
      "train_batch (Avg. Loss 0.013: 100%|██████████████████████████████████████████████████████| 1/1 [00:01<00:00,  1.40s/it]\n",
      "test_batch (Avg. Loss 0.017: 100%|███████████████████████████████████████████████████████| 1/1 [00:01<00:00,  1.29s/it]\n",
      "--- EPOCH 61/1000 ---\n",
      "train_batch (Avg. Loss 0.013: 100%|██████████████████████████████████████████████████████| 1/1 [00:01<00:00,  1.47s/it]\n",
      "test_batch (Avg. Loss 0.026: 100%|███████████████████████████████████████████████████████| 1/1 [00:01<00:00,  1.15s/it]\n",
      "train_batch (Avg. Loss 0.013: 100%|██████████████████████████████████████████████████████| 1/1 [00:01<00:00,  1.38s/it]\n",
      "test_batch (Avg. Loss 0.065: 100%|███████████████████████████████████████████████████████| 1/1 [00:01<00:00,  1.15s/it]\n",
      "train_batch (Avg. Loss 0.013: 100%|██████████████████████████████████████████████████████| 1/1 [00:01<00:00,  1.40s/it]\n",
      "test_batch:   0%|                                                                                | 0/1 [00:00<?, ?it/s]"
     ]
    }
   ],
   "source": [
    "res = trainer.fit(dl_train, dl_test, early_stopping=1000, print_every=10, checkpoints=checkpoint_file)"
   ]
  },
  {
   "cell_type": "code",
   "execution_count": null,
   "metadata": {},
   "outputs": [],
   "source": []
  }
 ],
 "metadata": {
  "kernelspec": {
   "display_name": "Python 3",
   "language": "python",
   "name": "python3"
  },
  "language_info": {
   "codemirror_mode": {
    "name": "ipython",
    "version": 3
   },
   "file_extension": ".py",
   "mimetype": "text/x-python",
   "name": "python",
   "nbconvert_exporter": "python",
   "pygments_lexer": "ipython3",
   "version": "3.7.6"
  }
 },
 "nbformat": 4,
 "nbformat_minor": 4
}
