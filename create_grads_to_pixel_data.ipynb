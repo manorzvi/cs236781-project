{
 "cells": [
  {
   "cell_type": "code",
   "execution_count": null,
   "metadata": {},
   "outputs": [],
   "source": [
    "import os\n",
    "import numpy as np\n",
    "import torch\n",
    "from PIL import Image\n",
    "from torchvision import transforms as T\n",
    "from data_manager import calc_grads\n",
    "from gradients_to_navigation import Gradients_to_navigation"
   ]
  },
  {
   "cell_type": "code",
   "execution_count": null,
   "metadata": {},
   "outputs": [],
   "source": [
    "dataset_dir   = 'data_grads_to_pixel/'\n",
    "gradients_dir = \"grads/\"\n",
    "pixel_dir     = \"pixel/\"\n",
    "image_size    = (64, 64)"
   ]
  },
  {
   "cell_type": "code",
   "execution_count": null,
   "metadata": {},
   "outputs": [],
   "source": [
    "CWD                          = os.getcwd()\n",
    "INPUT_DATASET_DIR            = os.path.join(CWD,'data/nyuv2/depth')\n",
    "OUTPUT_DATASET_DIR           = os.path.join(CWD, dataset_dir)\n",
    "OUTPUT_DATASET_GRADIENTS_DIR = os.path.join(CWD, dataset_dir, gradients_dir)\n",
    "OUTPUT_DATASET_PIXEL_DIR     = os.path.join(CWD, dataset_dir, pixel_dir)\n",
    "print(INPUT_DATASET_DIR)\n",
    "print(OUTPUT_DATASET_DIR)\n",
    "print(OUTPUT_DATASET_GRADIENTS_DIR)\n",
    "print(OUTPUT_DATASET_PIXEL_DIR)"
   ]
  },
  {
   "cell_type": "code",
   "execution_count": null,
   "metadata": {},
   "outputs": [],
   "source": [
    "directory = os.fsencode(INPUT_DATASET_DIR)\n",
    "\n",
    "for file in os.listdir(directory):\n",
    "    filename = os.fsdecode(file)\n",
    "    if filename.endswith(\".png\"): \n",
    "        depth = Image.open(INPUT_DATASET_DIR + r\"/\" + filename)\n",
    "        depth = T.Resize(image_size)(depth)\n",
    "        depth = T.ToTensor()(depth)\n",
    "        depth = T.Normalize(mean=(.5,), std=(.5,))(depth)\n",
    "        x, y = calc_grads(depth)\n",
    "        torch.save(x, OUTPUT_DATASET_GRADIENTS_DIR + filename[:-4] + '_x.pt')\n",
    "        torch.save(y, OUTPUT_DATASET_GRADIENTS_DIR + filename[:-4] + '_y.pt')\n",
    "        x = x.squeeze(0)\n",
    "        y = y.squeeze(0)\n",
    "        gradients_to_navigation = Gradients_to_navigation()\n",
    "        navigation_image = gradients_to_navigation.calculate_navigation_image(x=x, y=y)\n",
    "        navigate_to_x, navigate_to_y = gradients_to_navigation.calculate_goto_pixel(navigation_image=navigation_image)\n",
    "        goto_pixel = torch.from_numpy(np.array([navigate_to_x, navigate_to_y]))\n",
    "        torch.save(goto_pixel, OUTPUT_DATASET_PIXEL_DIR + filename[:-4] + '.pt')\n",
    "#         x = torch.load(OUTPUT_DATASET_DIR + '_x.pt')\n",
    "#         print(type(x))\n",
    "#         print(x.shape)\n",
    "#         print(x)"
   ]
  }
 ],
 "metadata": {
  "kernelspec": {
   "display_name": "Python 3",
   "language": "python",
   "name": "python3"
  },
  "language_info": {
   "codemirror_mode": {
    "name": "ipython",
    "version": 3
   },
   "file_extension": ".py",
   "mimetype": "text/x-python",
   "name": "python",
   "nbconvert_exporter": "python",
   "pygments_lexer": "ipython3",
   "version": "3.7.6"
  }
 },
 "nbformat": 4,
 "nbformat_minor": 4
}
