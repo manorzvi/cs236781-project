{
 "cells": [
  {
   "cell_type": "code",
   "execution_count": 1,
   "metadata": {},
   "outputs": [],
   "source": [
    "import os\n",
    "import time\n",
    "import torch\n",
    "import sys\n",
    "import random\n",
    "from pprint import pprint\n",
    "import torch.optim as optim\n",
    "from torch.nn import DataParallel\n",
    "import numpy as np\n",
    "import shutil\n",
    "from shutil import copyfile\n",
    "from torch.autograd import Variable\n",
    "from PIL import Image\n",
    "from torchvision import transforms as T\n",
    "from matplotlib import pyplot as plt\n",
    "from plot import post_epoch_plot, rgbd_gradients_dataset_first_n\n",
    "# %matplotlib notebook\n",
    "from models import SpecialFuseNet\n",
    "from data_manager import rgbd_gradients_dataset, rgbd_gradients_dataloader\n",
    "from train import FuseNetTrainer\n",
    "from functions import torch2np_u8"
   ]
  },
  {
   "cell_type": "code",
   "execution_count": 2,
   "metadata": {},
   "outputs": [
    {
     "name": "stdout",
     "output_type": "stream",
     "text": [
      "Using device: cpu\n"
     ]
    }
   ],
   "source": [
    "device = torch.device('cuda' if torch.cuda.is_available() else 'cpu')\n",
    "print('Using device:', device)"
   ]
  },
  {
   "cell_type": "code",
   "execution_count": 3,
   "metadata": {},
   "outputs": [
    {
     "name": "stdout",
     "output_type": "stream",
     "text": [
      "[I] - CWD=/home/manor/cs236781-DeepLearning/project/master\n",
      "[I] - DATASET_DIR=/home/manor/cs236781-DeepLearning/project/master/data/nyuv2_validation\n",
      "[I] - DATASET_SIZE=10\n",
      "[I] - CKPT_DIR=/home/manor/cs236781-DeepLearning/project/master/checkpoints\n",
      "['/home/manor/cs236781-DeepLearning/project/master',\n",
      " '/home/manor/anaconda3/envs/cs236781-project/lib/python37.zip',\n",
      " '/home/manor/anaconda3/envs/cs236781-project/lib/python3.7',\n",
      " '/home/manor/anaconda3/envs/cs236781-project/lib/python3.7/lib-dynload',\n",
      " '',\n",
      " '/home/manor/.local/lib/python3.7/site-packages',\n",
      " '/home/manor/anaconda3/envs/cs236781-project/lib/python3.7/site-packages',\n",
      " '/home/manor/anaconda3/envs/cs236781-project/lib/python3.7/site-packages/IPython/extensions',\n",
      " '/home/manor/.ipython',\n",
      " '/home/manor/cs236781-DeepLearning/project/master/checkpoints']\n",
      "[I] - Using Index=7\n"
     ]
    }
   ],
   "source": [
    "CWD         = os.getcwd()\n",
    "DATASET_DIR = os.path.join(CWD,'data','nyuv2_validation')\n",
    "DATASET_SIZE = len([name for name in os.listdir(os.path.join(DATASET_DIR,'rgb')) if \n",
    "                            os.path.isfile(os.path.join(DATASET_DIR,'rgb',name))])\n",
    "CKPT_DIR    = os.path.join(CWD,'checkpoints')\n",
    "print(f'[I] - CWD={CWD}')\n",
    "print(f'[I] - DATASET_DIR={DATASET_DIR}')\n",
    "print(f'[I] - DATASET_SIZE={DATASET_SIZE}')\n",
    "print(f'[I] - CKPT_DIR={CKPT_DIR}')\n",
    "sys.path.append(CKPT_DIR)\n",
    "pprint(sys.path)\n",
    "constant_index = random.randint(0, DATASET_SIZE-1)\n",
    "print(f'[I] - Using Index={constant_index}')"
   ]
  },
  {
   "cell_type": "code",
   "execution_count": 4,
   "metadata": {},
   "outputs": [],
   "source": [
    "filenames = os.listdir(CKPT_DIR)\n",
    "\n",
    "models_files = dict()\n",
    "\n",
    "for filename in os.listdir(CKPT_DIR):\n",
    "    if filename.endswith('.pt'):\n",
    "        f = filename[:-3]\n",
    "    elif filename.endswith('_res.pkl'):\n",
    "        f = filename[:-8]\n",
    "    elif filename.endswith('_hp.py'):\n",
    "        f = filename[:-6]\n",
    "    if f in models_files:\n",
    "        models_files[f].append(filename)\n",
    "    else:\n",
    "        models_files[f] = [filename]"
   ]
  },
  {
   "cell_type": "code",
   "execution_count": 5,
   "metadata": {
    "scrolled": false
   },
   "outputs": [
    {
     "name": "stdout",
     "output_type": "stream",
     "text": [
      "[I] - Init SpecialFuseNet\n",
      "    - warm start=True\n",
      "    - BN momentum=0.1\n",
      "    - dropout_p=0.4\n",
      "\n"
     ]
    },
    {
     "ename": "NameError",
     "evalue": "name 'saved_state' is not defined",
     "output_type": "error",
     "traceback": [
      "\u001b[0;31m---------------------------------------------------------------------------\u001b[0m",
      "\u001b[0;31mNameError\u001b[0m                                 Traceback (most recent call last)",
      "\u001b[0;32m<ipython-input-5-4bb02d226a3b>\u001b[0m in \u001b[0;36m<module>\u001b[0;34m\u001b[0m\n\u001b[1;32m     23\u001b[0m     \u001b[0mfusenet\u001b[0m \u001b[0;34m=\u001b[0m \u001b[0mDataParallel\u001b[0m\u001b[0;34m(\u001b[0m\u001b[0mfusenet\u001b[0m\u001b[0;34m)\u001b[0m\u001b[0;34m.\u001b[0m\u001b[0mto\u001b[0m\u001b[0;34m(\u001b[0m\u001b[0mdevice\u001b[0m\u001b[0;34m)\u001b[0m\u001b[0;34m\u001b[0m\u001b[0;34m\u001b[0m\u001b[0m\n\u001b[1;32m     24\u001b[0m \u001b[0;34m\u001b[0m\u001b[0m\n\u001b[0;32m---> 25\u001b[0;31m     \u001b[0mfusenet\u001b[0m\u001b[0;34m.\u001b[0m\u001b[0mload_state_dict\u001b[0m\u001b[0;34m(\u001b[0m\u001b[0msaved_state\u001b[0m\u001b[0;34m[\u001b[0m\u001b[0;34m'model_state'\u001b[0m\u001b[0;34m]\u001b[0m\u001b[0;34m)\u001b[0m\u001b[0;34m\u001b[0m\u001b[0;34m\u001b[0m\u001b[0m\n\u001b[0m\u001b[1;32m     26\u001b[0m \u001b[0;34m\u001b[0m\u001b[0m\n\u001b[1;32m     27\u001b[0m \u001b[0;31m#     rgbd_grads_ds = rgbd_gradients_dataset(root=DATASET_DIR, use_transforms=True,\u001b[0m\u001b[0;34m\u001b[0m\u001b[0;34m\u001b[0m\u001b[0;34m\u001b[0m\u001b[0m\n",
      "\u001b[0;31mNameError\u001b[0m: name 'saved_state' is not defined"
     ]
    }
   ],
   "source": [
    "for exp_name, exp_data in models_files.items(): \n",
    "    for f in exp_data:\n",
    "        if f.endswith('_hp.py'):\n",
    "            copyfile(os.path.join(CKPT_DIR, f),os.path.join(CWD, \"curr_hp.py\"))\n",
    "            from curr_hp import *\n",
    "            os.remove(os.path.join(CWD, \"curr_hp.py\"))\n",
    "        elif f.endswith('.pt'):\n",
    "            MODEL_NAME  = f\n",
    "            MODEL_PATH  = os.path.join(CKPT_DIR,MODEL_NAME)\n",
    "            if os.path.exists(MODEL_PATH):\n",
    "                print(f'[I] - MODEL_PATH={MODEL_PATH}')\n",
    "                try:\n",
    "                    print(f'[I] - Load Model ...', end=' ')\n",
    "                    saved_state = torch.load(MODEL_PATH, map_location=device)\n",
    "                    print('Done.')\n",
    "                except Exception as e:\n",
    "                    print(e)\n",
    "            else:\n",
    "                print(f\"[E] - MODEL_PATH={MODEL_PATH} Doesn't exist!\")\n",
    "\n",
    "    fusenet = SpecialFuseNet()\n",
    "    fusenet.to(device)\n",
    "    fusenet = DataParallel(fusenet).to(device)\n",
    "\n",
    "    fusenet.load_state_dict(saved_state['model_state'])\n",
    "    \n",
    "#     rgbd_grads_ds = rgbd_gradients_dataset(root=DATASET_DIR, use_transforms=True,\n",
    "#                                            image_size=IMAGE_SIZE, constant_index=constant_index)\n",
    "    rgbd_grads_ds = rgbd_gradients_dataset(root=DATASET_DIR, use_transforms=True,\n",
    "                                           image_size=IMAGE_SIZE)\n",
    "    \n",
    "    fig, axes = plt.subplots(nrows=len(rgbd_grads_ds), ncols=4, figsize=(32,32), subplot_kw={'aspect': 1},\n",
    "                             gridspec_kw=dict(wspace=0.3, hspace=0.6, left=0, right=0.3))\n",
    "#     plt.tight_layout()\n",
    "    \n",
    "    for i,sample in enumerate(rgbd_grads_ds):\n",
    "        rgb        = sample['rgb']\n",
    "        depth      = sample['depth']\n",
    "        x_gt       = sample['x']\n",
    "        y_gt       = sample['y']\n",
    "        rgb_size   = tuple(rgb.shape)\n",
    "        depth_size = tuple(depth.shape)\n",
    "        grads_size = tuple(x_gt.shape)\n",
    "        x_gt       = x_gt.squeeze(0)\n",
    "        y_gt       = y_gt.squeeze(0)\n",
    "        rgb_im     = torch2np_u8(rgb)\n",
    "        depth_im   = torch2np_u8(depth)\n",
    "\n",
    "        axes[i,0].imshow(rgb_im)\n",
    "        axes[i,0].set_title('RGB')\n",
    "        axes[i,1].imshow(depth_im)\n",
    "        axes[i,1].set_title('DEPTH')\n",
    "        \n",
    "        X_gt,Y_gt = np.meshgrid(np.arange(x_gt.shape[1]), np.arange(x_gt.shape[0]))\n",
    "        axes[i,2].quiver(X_gt, Y_gt, x_gt, y_gt, pivot='tip', units='xy')\n",
    "        axes[i,2].set_title('GT\\nGradients')\n",
    "\n",
    "        with torch.no_grad():\n",
    "            xy   = fusenet(rgb_inputs=rgb.unsqueeze(0), depth_inputs=depth.unsqueeze(0))\n",
    "\n",
    "        x = xy[:,0,:,:]\n",
    "        y = xy[:,1,:,:]\n",
    "        if len(x.shape) == 3:\n",
    "            x = x[:,None,:,:]\n",
    "        if len(y.shape) == 3:\n",
    "            y = y[:,None,:,:]\n",
    "\n",
    "        x = x[0,:,:,:].squeeze(0)\n",
    "        y = y[0,:,:,:].squeeze(0)\n",
    "\n",
    "        X,Y = np.meshgrid(np.arange(x.shape[1]), np.arange(x.shape[0]))\n",
    "        axes[i,3].quiver(X, Y, x, y, pivot='tip', units='xy')\n",
    "        axes[i,3].set_title('Approximated\\nGradients')\n",
    "\n",
    "    plt.show()"
   ]
  },
  {
   "cell_type": "code",
   "execution_count": null,
   "metadata": {},
   "outputs": [],
   "source": []
  }
 ],
 "metadata": {
  "kernelspec": {
   "display_name": "Python [conda env:cs236781-project] *",
   "language": "python",
   "name": "conda-env-cs236781-project-py"
  },
  "language_info": {
   "codemirror_mode": {
    "name": "ipython",
    "version": 3
   },
   "file_extension": ".py",
   "mimetype": "text/x-python",
   "name": "python",
   "nbconvert_exporter": "python",
   "pygments_lexer": "ipython3",
   "version": "3.7.6"
  }
 },
 "nbformat": 4,
 "nbformat_minor": 4
}
